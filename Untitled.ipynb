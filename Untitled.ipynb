{
 "cells": [
  {
   "cell_type": "code",
   "execution_count": 1,
   "metadata": {},
   "outputs": [],
   "source": [
    "### da"
   ]
  },
  {
   "cell_type": "code",
   "execution_count": 2,
   "metadata": {},
   "outputs": [],
   "source": [
    "import pandas as pd\n",
    "import time\n",
    "import seaborn as sns\n",
    "import matplotlib.pyplot as plt\n",
    "import datetime\n",
    "import numpy as np\n",
    "\n",
    "sns.set()"
   ]
  },
  {
   "cell_type": "code",
   "execution_count": 25,
   "metadata": {},
   "outputs": [
    {
     "data": {
      "text/html": [
       "<div>\n",
       "<style scoped>\n",
       "    .dataframe tbody tr th:only-of-type {\n",
       "        vertical-align: middle;\n",
       "    }\n",
       "\n",
       "    .dataframe tbody tr th {\n",
       "        vertical-align: top;\n",
       "    }\n",
       "\n",
       "    .dataframe thead th {\n",
       "        text-align: right;\n",
       "    }\n",
       "</style>\n",
       "<table border=\"1\" class=\"dataframe\">\n",
       "  <thead>\n",
       "    <tr style=\"text-align: right;\">\n",
       "      <th></th>\n",
       "      <th>Date</th>\n",
       "      <th>Open</th>\n",
       "      <th>High</th>\n",
       "      <th>Low</th>\n",
       "      <th>Close</th>\n",
       "      <th>Volume</th>\n",
       "      <th>Market Cap</th>\n",
       "    </tr>\n",
       "    <tr>\n",
       "      <th>Date</th>\n",
       "      <th></th>\n",
       "      <th></th>\n",
       "      <th></th>\n",
       "      <th></th>\n",
       "      <th></th>\n",
       "      <th></th>\n",
       "      <th></th>\n",
       "    </tr>\n",
       "  </thead>\n",
       "  <tbody>\n",
       "    <tr>\n",
       "      <th>2020-04-24</th>\n",
       "      <td>2020-04-24</td>\n",
       "      <td>7434.18</td>\n",
       "      <td>7574.20</td>\n",
       "      <td>7434.18</td>\n",
       "      <td>7550.90</td>\n",
       "      <td>34636526286</td>\n",
       "      <td>138512029491</td>\n",
       "    </tr>\n",
       "    <tr>\n",
       "      <th>2020-04-23</th>\n",
       "      <td>2020-04-23</td>\n",
       "      <td>7121.31</td>\n",
       "      <td>7491.78</td>\n",
       "      <td>7081.59</td>\n",
       "      <td>7429.72</td>\n",
       "      <td>43500782316</td>\n",
       "      <td>136275638031</td>\n",
       "    </tr>\n",
       "    <tr>\n",
       "      <th>2020-04-22</th>\n",
       "      <td>2020-04-22</td>\n",
       "      <td>6879.44</td>\n",
       "      <td>7145.87</td>\n",
       "      <td>6867.78</td>\n",
       "      <td>7117.21</td>\n",
       "      <td>33249153866</td>\n",
       "      <td>130530916077</td>\n",
       "    </tr>\n",
       "    <tr>\n",
       "      <th>2020-04-21</th>\n",
       "      <td>2020-04-21</td>\n",
       "      <td>6879.78</td>\n",
       "      <td>6934.55</td>\n",
       "      <td>6834.44</td>\n",
       "      <td>6880.32</td>\n",
       "      <td>32589741511</td>\n",
       "      <td>126175238603</td>\n",
       "    </tr>\n",
       "    <tr>\n",
       "      <th>2020-04-20</th>\n",
       "      <td>2020-04-20</td>\n",
       "      <td>7186.87</td>\n",
       "      <td>7240.29</td>\n",
       "      <td>6835.50</td>\n",
       "      <td>6881.96</td>\n",
       "      <td>37747113936</td>\n",
       "      <td>126192239912</td>\n",
       "    </tr>\n",
       "  </tbody>\n",
       "</table>\n",
       "</div>"
      ],
      "text/plain": [
       "                 Date     Open     High      Low    Close       Volume  \\\n",
       "Date                                                                     \n",
       "2020-04-24 2020-04-24  7434.18  7574.20  7434.18  7550.90  34636526286   \n",
       "2020-04-23 2020-04-23  7121.31  7491.78  7081.59  7429.72  43500782316   \n",
       "2020-04-22 2020-04-22  6879.44  7145.87  6867.78  7117.21  33249153866   \n",
       "2020-04-21 2020-04-21  6879.78  6934.55  6834.44  6880.32  32589741511   \n",
       "2020-04-20 2020-04-20  7186.87  7240.29  6835.50  6881.96  37747113936   \n",
       "\n",
       "              Market Cap  \n",
       "Date                      \n",
       "2020-04-24  138512029491  \n",
       "2020-04-23  136275638031  \n",
       "2020-04-22  130530916077  \n",
       "2020-04-21  126175238603  \n",
       "2020-04-20  126192239912  "
      ]
     },
     "execution_count": 25,
     "metadata": {},
     "output_type": "execute_result"
    }
   ],
   "source": [
    "# get market info for bitcoin from the start of 2016 to the current day\n",
    "bitcoin_market_info = pd.read_html(\"https://coinmarketcap.com/currencies/bitcoin/historical-data/?start=20130428&end=\"+time.strftime(\"%Y%m%d\"))[2]\n",
    "# convert the date string to the correct date format\n",
    "bitcoin_market_info = bitcoin_market_info.assign(Date=pd.to_datetime(bitcoin_market_info['Date']))\n",
    "# when Volume is equal to '-' convert it to 0\n",
    "# bitcoin_market_info.loc[bitcoin_market_info['Volume']==\"-\",'Volume']=0\n",
    "# # convert to int\n",
    "# bitcoin_market_info['Volume'] = bitcoin_market_info['Volume'].astype('int64')\n",
    "\n",
    "bitcoin_market_info.rename(columns={\"Open*\":\"Open\",\"Close**\":\"Close\"}, inplace = True)\n",
    "bitcoin_market_info.index=bitcoin_market_info['Date']\n",
    "# look at the first few rows\n",
    "bitcoin_market_info.head()\n"
   ]
  },
  {
   "cell_type": "code",
   "execution_count": 19,
   "metadata": {},
   "outputs": [
    {
     "data": {
      "text/html": [
       "<div>\n",
       "<style scoped>\n",
       "    .dataframe tbody tr th:only-of-type {\n",
       "        vertical-align: middle;\n",
       "    }\n",
       "\n",
       "    .dataframe tbody tr th {\n",
       "        vertical-align: top;\n",
       "    }\n",
       "\n",
       "    .dataframe thead th {\n",
       "        text-align: right;\n",
       "    }\n",
       "</style>\n",
       "<table border=\"1\" class=\"dataframe\">\n",
       "  <thead>\n",
       "    <tr style=\"text-align: right;\">\n",
       "      <th></th>\n",
       "      <th>Date</th>\n",
       "      <th>Open</th>\n",
       "      <th>High</th>\n",
       "      <th>Low</th>\n",
       "      <th>Close</th>\n",
       "      <th>Volume</th>\n",
       "      <th>Market Cap</th>\n",
       "    </tr>\n",
       "  </thead>\n",
       "  <tbody>\n",
       "    <tr>\n",
       "      <th>2553</th>\n",
       "      <td>2013-04-28</td>\n",
       "      <td>135.30</td>\n",
       "      <td>135.98</td>\n",
       "      <td>132.10</td>\n",
       "      <td>134.21</td>\n",
       "      <td>0</td>\n",
       "      <td>1488566728</td>\n",
       "    </tr>\n",
       "    <tr>\n",
       "      <th>2552</th>\n",
       "      <td>2013-04-29</td>\n",
       "      <td>134.44</td>\n",
       "      <td>147.49</td>\n",
       "      <td>134.00</td>\n",
       "      <td>144.54</td>\n",
       "      <td>0</td>\n",
       "      <td>1603768865</td>\n",
       "    </tr>\n",
       "    <tr>\n",
       "      <th>2551</th>\n",
       "      <td>2013-04-30</td>\n",
       "      <td>144.00</td>\n",
       "      <td>146.93</td>\n",
       "      <td>134.05</td>\n",
       "      <td>139.00</td>\n",
       "      <td>0</td>\n",
       "      <td>1542813125</td>\n",
       "    </tr>\n",
       "    <tr>\n",
       "      <th>2550</th>\n",
       "      <td>2013-05-01</td>\n",
       "      <td>139.00</td>\n",
       "      <td>139.89</td>\n",
       "      <td>107.72</td>\n",
       "      <td>116.99</td>\n",
       "      <td>0</td>\n",
       "      <td>1298954594</td>\n",
       "    </tr>\n",
       "    <tr>\n",
       "      <th>2549</th>\n",
       "      <td>2013-05-02</td>\n",
       "      <td>116.38</td>\n",
       "      <td>125.60</td>\n",
       "      <td>92.28</td>\n",
       "      <td>105.21</td>\n",
       "      <td>0</td>\n",
       "      <td>1168517495</td>\n",
       "    </tr>\n",
       "    <tr>\n",
       "      <th>...</th>\n",
       "      <td>...</td>\n",
       "      <td>...</td>\n",
       "      <td>...</td>\n",
       "      <td>...</td>\n",
       "      <td>...</td>\n",
       "      <td>...</td>\n",
       "      <td>...</td>\n",
       "    </tr>\n",
       "    <tr>\n",
       "      <th>4</th>\n",
       "      <td>2020-04-20</td>\n",
       "      <td>7186.87</td>\n",
       "      <td>7240.29</td>\n",
       "      <td>6835.50</td>\n",
       "      <td>6881.96</td>\n",
       "      <td>37747113936</td>\n",
       "      <td>126192239912</td>\n",
       "    </tr>\n",
       "    <tr>\n",
       "      <th>3</th>\n",
       "      <td>2020-04-21</td>\n",
       "      <td>6879.78</td>\n",
       "      <td>6934.55</td>\n",
       "      <td>6834.44</td>\n",
       "      <td>6880.32</td>\n",
       "      <td>32589741511</td>\n",
       "      <td>126175238603</td>\n",
       "    </tr>\n",
       "    <tr>\n",
       "      <th>2</th>\n",
       "      <td>2020-04-22</td>\n",
       "      <td>6879.44</td>\n",
       "      <td>7145.87</td>\n",
       "      <td>6867.78</td>\n",
       "      <td>7117.21</td>\n",
       "      <td>33249153866</td>\n",
       "      <td>130530916077</td>\n",
       "    </tr>\n",
       "    <tr>\n",
       "      <th>1</th>\n",
       "      <td>2020-04-23</td>\n",
       "      <td>7121.31</td>\n",
       "      <td>7491.78</td>\n",
       "      <td>7081.59</td>\n",
       "      <td>7429.72</td>\n",
       "      <td>43500782316</td>\n",
       "      <td>136275638031</td>\n",
       "    </tr>\n",
       "    <tr>\n",
       "      <th>0</th>\n",
       "      <td>2020-04-24</td>\n",
       "      <td>7434.18</td>\n",
       "      <td>7574.20</td>\n",
       "      <td>7434.18</td>\n",
       "      <td>7550.90</td>\n",
       "      <td>34636526286</td>\n",
       "      <td>138512029491</td>\n",
       "    </tr>\n",
       "  </tbody>\n",
       "</table>\n",
       "<p>2554 rows × 7 columns</p>\n",
       "</div>"
      ],
      "text/plain": [
       "           Date     Open     High      Low    Close       Volume    Market Cap\n",
       "2553 2013-04-28   135.30   135.98   132.10   134.21            0    1488566728\n",
       "2552 2013-04-29   134.44   147.49   134.00   144.54            0    1603768865\n",
       "2551 2013-04-30   144.00   146.93   134.05   139.00            0    1542813125\n",
       "2550 2013-05-01   139.00   139.89   107.72   116.99            0    1298954594\n",
       "2549 2013-05-02   116.38   125.60    92.28   105.21            0    1168517495\n",
       "...         ...      ...      ...      ...      ...          ...           ...\n",
       "4    2020-04-20  7186.87  7240.29  6835.50  6881.96  37747113936  126192239912\n",
       "3    2020-04-21  6879.78  6934.55  6834.44  6880.32  32589741511  126175238603\n",
       "2    2020-04-22  6879.44  7145.87  6867.78  7117.21  33249153866  130530916077\n",
       "1    2020-04-23  7121.31  7491.78  7081.59  7429.72  43500782316  136275638031\n",
       "0    2020-04-24  7434.18  7574.20  7434.18  7550.90  34636526286  138512029491\n",
       "\n",
       "[2554 rows x 7 columns]"
      ]
     },
     "execution_count": 19,
     "metadata": {},
     "output_type": "execute_result"
    }
   ],
   "source": [
    "bitcoin_market_info=bitcoin_market_info.sort_values(by=['Date'])\n",
    "bitcoin_market_info"
   ]
  },
  {
   "cell_type": "code",
   "execution_count": 4,
   "metadata": {},
   "outputs": [
    {
     "data": {
      "text/plain": [
       "(2554, 7)"
      ]
     },
     "execution_count": 4,
     "metadata": {},
     "output_type": "execute_result"
    }
   ],
   "source": [
    "bitcoin_market_info.shape"
   ]
  },
  {
   "cell_type": "code",
   "execution_count": 5,
   "metadata": {},
   "outputs": [
    {
     "data": {
      "text/plain": [
       "False"
      ]
     },
     "execution_count": 5,
     "metadata": {},
     "output_type": "execute_result"
    }
   ],
   "source": [
    "bitcoin_market_info.isnull().values.any()"
   ]
  },
  {
   "cell_type": "code",
   "execution_count": 26,
   "metadata": {},
   "outputs": [
    {
     "data": {
      "text/plain": [
       "Date\n",
       "2020-04-24    7434.18\n",
       "2020-04-23    7121.31\n",
       "2020-04-22    6879.44\n",
       "2020-04-21    6879.78\n",
       "2020-04-20    7186.87\n",
       "               ...   \n",
       "2013-05-02     116.38\n",
       "2013-05-01     139.00\n",
       "2013-04-30     144.00\n",
       "2013-04-29     134.44\n",
       "2013-04-28     135.30\n",
       "Name: Open, Length: 2554, dtype: float64"
      ]
     },
     "execution_count": 26,
     "metadata": {},
     "output_type": "execute_result"
    }
   ],
   "source": [
    "s = pd.Series(bitcoin_market_info[\"Open\"])\n",
    "s"
   ]
  },
  {
   "cell_type": "code",
   "execution_count": 28,
   "metadata": {},
   "outputs": [
    {
     "data": {
      "image/png": "[encoded data removed]",
      "text/plain": [
       "<Figure size 1296x432 with 1 Axes>"
      ]
     },
     "metadata": {},
     "output_type": "display_data"
    }
   ],
   "source": [
    "plt.figure(figsize=(18, 6))  # 创建一个新的 figure\n",
    "s_ax = s.plot()\n",
    "s_ax.set_xlabel(\"time\")\n",
    "s_ax.set_ylabel(\"num\")\n",
    "s_ax.legend(loc='upper right')\n",
    "plt.show()\n"
   ]
  },
  {
   "cell_type": "code",
   "execution_count": 32,
   "metadata": {},
   "outputs": [
    {
     "name": "stdout",
     "output_type": "stream",
     "text": [
      "               Open     High      Low    Close      Volume   Market Cap\n",
      "Date                                                                   \n",
      "2018-12-31  3866.84  3868.74  3725.87  3742.70  4661840806  65331499158\n",
      "2018-12-30  3822.38  3901.91  3797.22  3865.95  4770578575  67475512827\n",
      "2018-12-29  3932.49  3963.76  3820.41  3820.41  4991655917  66672244158\n",
      "2018-12-28  3653.13  3956.14  3642.63  3923.92  5631554348  68471837969\n",
      "2018-12-27  3854.69  3874.42  3645.45  3654.83  5130222366  63768757101\n",
      "...             ...      ...      ...      ...         ...          ...\n",
      "2013-05-02   116.38   125.60    92.28   105.21           0   1168517495\n",
      "2013-05-01   139.00   139.89   107.72   116.99           0   1298954594\n",
      "2013-04-30   144.00   146.93   134.05   139.00           0   1542813125\n",
      "2013-04-29   134.44   147.49   134.00   144.54           0   1603768865\n",
      "2013-04-28   135.30   135.98   132.10   134.21           0   1488566728\n",
      "\n",
      "[2074 rows x 6 columns]\n",
      "---------------\n",
      "               Open     High      Low    Close       Volume    Market Cap\n",
      "Date                                                                     \n",
      "2020-04-24  7434.18  7574.20  7434.18  7550.90  34636526286  138512029491\n",
      "2020-04-23  7121.31  7491.78  7081.59  7429.72  43500782316  136275638031\n",
      "2020-04-22  6879.44  7145.87  6867.78  7117.21  33249153866  130530916077\n",
      "2020-04-21  6879.78  6934.55  6834.44  6880.32  32589741511  126175238603\n",
      "2020-04-20  7186.87  7240.29  6835.50  6881.96  37747113936  126192239912\n",
      "...             ...      ...      ...      ...          ...           ...\n",
      "2019-01-05  3851.97  3904.90  3836.90  3845.19   5137609824   67157570935\n",
      "2019-01-04  3832.04  3865.93  3783.85  3857.72   4847965467   67368333500\n",
      "2019-01-03  3931.05  3935.69  3826.22  3836.74   4530215219   66994920903\n",
      "2019-01-02  3849.22  3947.98  3817.41  3943.41   5244856836   68849856732\n",
      "2019-01-01  3746.71  3850.91  3707.23  3843.52   4324200990   67098634181\n",
      "\n",
      "[480 rows x 6 columns]\n"
     ]
    }
   ],
   "source": [
    "split_date = '2019-01-01'\n",
    "training_set, test_set = bitcoin_market_info[bitcoin_market_info['Date']<split_date], bitcoin_market_info[bitcoin_market_info['Date']>=split_date]\n",
    "training_set = training_set.drop('Date', axis=1)\n",
    "test_set = test_set.drop('Date', axis=1)\n",
    "print(training_set, test_set,sep=\"\\n---------------\\n\")"
   ]
  },
  {
   "cell_type": "code",
   "execution_count": 37,
   "metadata": {},
   "outputs": [],
   "source": [
    "window_len = 7\n",
    "LSTM_training_inputs = []\n",
    "for i in range(len(training_set)-window_len):\n",
    "    temp_set = training_set[i:(i+window_len)].copy()\n",
    "    LSTM_training_inputs.append(temp_set)\n",
    "LSTM_test_inputs = []\n",
    "for i in range(len(test_set)-window_len):\n",
    "    temp_set = test_set[i:(i+window_len)].copy()\n",
    "    LSTM_test_inputs.append(temp_set)"
   ]
  },
  {
   "cell_type": "code",
   "execution_count": 38,
   "metadata": {},
   "outputs": [],
   "source": [
    "LSTM_training_inputs = [np.array(LSTM_training_input) for LSTM_training_input in LSTM_training_inputs]\n",
    "LSTM_training_inputs = np.array(LSTM_training_inputs)\n",
    "\n",
    "LSTM_test_inputs = [np.array(LSTM_test_inputs) for LSTM_test_inputs in LSTM_test_inputs]\n",
    "LSTM_test_inputs = np.array(LSTM_test_inputs)\n",
    "\n",
    "LSTM_training_outputs = (training_set['Close'][window_len:].values/training_set['Close'][:-window_len].values)-1\n",
    "LSTM_test_outputs = (test_set['eth_Close'][window_len:].values/test_set['eth_Close'][:-window_len].values)-1"
   ]
  },
  {
   "cell_type": "code",
   "execution_count": 46,
   "metadata": {},
   "outputs": [
    {
     "data": {
      "text/plain": [
       "array([[0.37953141, 0.37471146, 0.38969896, 0.38511923, 0.46707166,\n",
       "        0.42285366],\n",
       "       [0.36341016, 0.37059343, 0.37105186, 0.37888215, 0.58660566,\n",
       "        0.41598776],\n",
       "       [0.35094732, 0.35331041, 0.35974429, 0.36279741, 0.44836301,\n",
       "        0.39835098],\n",
       "       ...,\n",
       "       [0.00389029, 0.00361589, 0.00362375, 0.0036322 , 0.        ,\n",
       "        0.00234678],\n",
       "       [0.00339769, 0.00364387, 0.00362111, 0.00391735, 0.        ,\n",
       "        0.00253392],\n",
       "       [0.003442  , 0.00306878, 0.00352063, 0.00338567, 0.        ,\n",
       "        0.00218024]])"
      ]
     },
     "execution_count": 46,
     "metadata": {},
     "output_type": "execute_result"
    }
   ],
   "source": [
    "from sklearn.preprocessing import MinMaxScaler\n",
    "#bitcoin_market_info=bitcoin_market_info.drop('Date',axis=1)\n",
    "scaler = MinMaxScaler(feature_range=(0, 1))\n",
    "scaled_data = scaler.fit_transform(bitcoin_market_info.values)\n",
    "scaled_data"
   ]
  },
  {
   "cell_type": "code",
   "execution_count": 39,
   "metadata": {},
   "outputs": [
    {
     "name": "stderr",
     "output_type": "stream",
     "text": [
      "Using TensorFlow backend.\n"
     ]
    }
   ],
   "source": [
    "from keras.models import Sequential\n",
    "from keras.layers import Activation, Dense\n",
    "from keras.layers import LSTM\n",
    "from keras.layers import Dropout"
   ]
  },
  {
   "cell_type": "code",
   "execution_count": null,
   "metadata": {},
   "outputs": [],
   "source": [
    "# random seed for reproducibility\n",
    "np.random.seed(202)\n",
    "# initialise model architecture\n",
    "eth_model = build_model(LSTM_training_inputs, output_size=1, neurons = 20)\n",
    "# model output is next price normalised to 10th previous closing price\n",
    "\n",
    "# train model on data\n",
    "# note: eth_history contains information on the training error per epoch\n",
    "eth_history = eth_model.fit(LSTM_training_inputs, LSTM_training_outputs, \n",
    "                            epochs=50, batch_size=1, verbose=2, shuffle=True)"
   ]
  }
 ],
 "metadata": {
  "kernelspec": {
   "display_name": "Python 3",
   "language": "python",
   "name": "python3"
  },
  "language_info": {
   "codemirror_mode": {
    "name": "ipython",
    "version": 3
   },
   "file_extension": ".py",
   "mimetype": "text/x-python",
   "name": "python",
   "nbconvert_exporter": "python",
   "pygments_lexer": "ipython3",
   "version": "3.7.7"
  }
 },
 "nbformat": 4,
 "nbformat_minor": 4
}
