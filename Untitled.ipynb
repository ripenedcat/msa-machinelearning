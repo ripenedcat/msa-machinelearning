{
 "cells": [
  {
   "cell_type": "code",
   "execution_count": 1,
   "metadata": {},
   "outputs": [],
   "source": [
    "### bitcoin price prediction"
   ]
  },
  {
   "cell_type": "code",
   "execution_count": 2,
   "metadata": {},
   "outputs": [],
   "source": [
    "import pandas as pd\n",
    "import time\n",
    "import seaborn as sns\n",
    "import matplotlib.pyplot as plt\n",
    "import datetime\n",
    "import numpy as np\n",
    "sns.set()"
   ]
  },
  {
   "cell_type": "code",
   "execution_count": 3,
   "metadata": {},
   "outputs": [
    {
     "data": {
      "text/html": [
       "<div>\n",
       "<style scoped>\n",
       "    .dataframe tbody tr th:only-of-type {\n",
       "        vertical-align: middle;\n",
       "    }\n",
       "\n",
       "    .dataframe tbody tr th {\n",
       "        vertical-align: top;\n",
       "    }\n",
       "\n",
       "    .dataframe thead th {\n",
       "        text-align: right;\n",
       "    }\n",
       "</style>\n",
       "<table border=\"1\" class=\"dataframe\">\n",
       "  <thead>\n",
       "    <tr style=\"text-align: right;\">\n",
       "      <th></th>\n",
       "      <th>Date</th>\n",
       "      <th>Open</th>\n",
       "      <th>High</th>\n",
       "      <th>Low</th>\n",
       "      <th>Close</th>\n",
       "      <th>Volume</th>\n",
       "      <th>Market Cap</th>\n",
       "    </tr>\n",
       "  </thead>\n",
       "  <tbody>\n",
       "    <tr>\n",
       "      <th>0</th>\n",
       "      <td>2020-05-06</td>\n",
       "      <td>9007.44</td>\n",
       "      <td>9411.47</td>\n",
       "      <td>8966.71</td>\n",
       "      <td>9268.76</td>\n",
       "      <td>49371886931</td>\n",
       "      <td>170229620935</td>\n",
       "    </tr>\n",
       "    <tr>\n",
       "      <th>1</th>\n",
       "      <td>2020-05-05</td>\n",
       "      <td>8912.83</td>\n",
       "      <td>9062.41</td>\n",
       "      <td>8856.83</td>\n",
       "      <td>9003.07</td>\n",
       "      <td>43148462663</td>\n",
       "      <td>165332488792</td>\n",
       "    </tr>\n",
       "    <tr>\n",
       "      <th>2</th>\n",
       "      <td>2020-05-04</td>\n",
       "      <td>8895.74</td>\n",
       "      <td>8956.91</td>\n",
       "      <td>8645.02</td>\n",
       "      <td>8912.65</td>\n",
       "      <td>45718796276</td>\n",
       "      <td>163654493632</td>\n",
       "    </tr>\n",
       "    <tr>\n",
       "      <th>3</th>\n",
       "      <td>2020-05-03</td>\n",
       "      <td>8983.61</td>\n",
       "      <td>9167.78</td>\n",
       "      <td>8830.97</td>\n",
       "      <td>8897.47</td>\n",
       "      <td>47101785174</td>\n",
       "      <td>163358189151</td>\n",
       "    </tr>\n",
       "    <tr>\n",
       "      <th>4</th>\n",
       "      <td>2020-05-02</td>\n",
       "      <td>8869.06</td>\n",
       "      <td>9007.19</td>\n",
       "      <td>8811.37</td>\n",
       "      <td>8988.60</td>\n",
       "      <td>40134388683</td>\n",
       "      <td>165012307600</td>\n",
       "    </tr>\n",
       "  </tbody>\n",
       "</table>\n",
       "</div>"
      ],
      "text/plain": [
       "        Date     Open     High      Low    Close       Volume    Market Cap\n",
       "0 2020-05-06  9007.44  9411.47  8966.71  9268.76  49371886931  170229620935\n",
       "1 2020-05-05  8912.83  9062.41  8856.83  9003.07  43148462663  165332488792\n",
       "2 2020-05-04  8895.74  8956.91  8645.02  8912.65  45718796276  163654493632\n",
       "3 2020-05-03  8983.61  9167.78  8830.97  8897.47  47101785174  163358189151\n",
       "4 2020-05-02  8869.06  9007.19  8811.37  8988.60  40134388683  165012307600"
      ]
     },
     "execution_count": 3,
     "metadata": {},
     "output_type": "execute_result"
    }
   ],
   "source": [
    "# get market info for bitcoin from the start of 2016 to the current day\n",
    "bitcoin_market_info = pd.read_html(\"https://coinmarketcap.com/currencies/bitcoin/historical-data/?start=20130428&end=\"+time.strftime(\"%Y%m%d\"))[2]\n",
    "# convert the date string to the correct date format\n",
    "bitcoin_market_info = bitcoin_market_info.assign(Date=pd.to_datetime(bitcoin_market_info['Date']))\n",
    "# when Volume is equal to '-' convert it to 0\n",
    "# bitcoin_market_info.loc[bitcoin_market_info['Volume']==\"-\",'Volume']=0\n",
    "# # convert to int\n",
    "# bitcoin_market_info['Volume'] = bitcoin_market_info['Volume'].astype('int64')\n",
    "\n",
    "bitcoin_market_info.rename(columns={\"Open*\":\"Open\",\"Close**\":\"Close\"}, inplace = True)\n",
    "#bitcoin_market_info.index=bitcoin_market_info['Date']\n",
    "# look at the first few rows\n",
    "bitcoin_market_info.head()\n"
   ]
  },
  {
   "cell_type": "code",
   "execution_count": 4,
   "metadata": {},
   "outputs": [
    {
     "data": {
      "text/html": [
       "<div>\n",
       "<style scoped>\n",
       "    .dataframe tbody tr th:only-of-type {\n",
       "        vertical-align: middle;\n",
       "    }\n",
       "\n",
       "    .dataframe tbody tr th {\n",
       "        vertical-align: top;\n",
       "    }\n",
       "\n",
       "    .dataframe thead th {\n",
       "        text-align: right;\n",
       "    }\n",
       "</style>\n",
       "<table border=\"1\" class=\"dataframe\">\n",
       "  <thead>\n",
       "    <tr style=\"text-align: right;\">\n",
       "      <th></th>\n",
       "      <th>Date</th>\n",
       "      <th>Open</th>\n",
       "      <th>High</th>\n",
       "      <th>Low</th>\n",
       "      <th>Close</th>\n",
       "      <th>Volume</th>\n",
       "      <th>Market Cap</th>\n",
       "    </tr>\n",
       "  </thead>\n",
       "  <tbody>\n",
       "    <tr>\n",
       "      <th>2565</th>\n",
       "      <td>2013-04-28</td>\n",
       "      <td>135.30</td>\n",
       "      <td>135.98</td>\n",
       "      <td>132.10</td>\n",
       "      <td>134.21</td>\n",
       "      <td>0</td>\n",
       "      <td>1488566728</td>\n",
       "    </tr>\n",
       "    <tr>\n",
       "      <th>2564</th>\n",
       "      <td>2013-04-29</td>\n",
       "      <td>134.44</td>\n",
       "      <td>147.49</td>\n",
       "      <td>134.00</td>\n",
       "      <td>144.54</td>\n",
       "      <td>0</td>\n",
       "      <td>1603768865</td>\n",
       "    </tr>\n",
       "    <tr>\n",
       "      <th>2563</th>\n",
       "      <td>2013-04-30</td>\n",
       "      <td>144.00</td>\n",
       "      <td>146.93</td>\n",
       "      <td>134.05</td>\n",
       "      <td>139.00</td>\n",
       "      <td>0</td>\n",
       "      <td>1542813125</td>\n",
       "    </tr>\n",
       "    <tr>\n",
       "      <th>2562</th>\n",
       "      <td>2013-05-01</td>\n",
       "      <td>139.00</td>\n",
       "      <td>139.89</td>\n",
       "      <td>107.72</td>\n",
       "      <td>116.99</td>\n",
       "      <td>0</td>\n",
       "      <td>1298954594</td>\n",
       "    </tr>\n",
       "    <tr>\n",
       "      <th>2561</th>\n",
       "      <td>2013-05-02</td>\n",
       "      <td>116.38</td>\n",
       "      <td>125.60</td>\n",
       "      <td>92.28</td>\n",
       "      <td>105.21</td>\n",
       "      <td>0</td>\n",
       "      <td>1168517495</td>\n",
       "    </tr>\n",
       "    <tr>\n",
       "      <th>...</th>\n",
       "      <td>...</td>\n",
       "      <td>...</td>\n",
       "      <td>...</td>\n",
       "      <td>...</td>\n",
       "      <td>...</td>\n",
       "      <td>...</td>\n",
       "      <td>...</td>\n",
       "    </tr>\n",
       "    <tr>\n",
       "      <th>4</th>\n",
       "      <td>2020-05-02</td>\n",
       "      <td>8869.06</td>\n",
       "      <td>9007.19</td>\n",
       "      <td>8811.37</td>\n",
       "      <td>8988.60</td>\n",
       "      <td>40134388683</td>\n",
       "      <td>165012307600</td>\n",
       "    </tr>\n",
       "    <tr>\n",
       "      <th>3</th>\n",
       "      <td>2020-05-03</td>\n",
       "      <td>8983.61</td>\n",
       "      <td>9167.78</td>\n",
       "      <td>8830.97</td>\n",
       "      <td>8897.47</td>\n",
       "      <td>47101785174</td>\n",
       "      <td>163358189151</td>\n",
       "    </tr>\n",
       "    <tr>\n",
       "      <th>2</th>\n",
       "      <td>2020-05-04</td>\n",
       "      <td>8895.74</td>\n",
       "      <td>8956.91</td>\n",
       "      <td>8645.02</td>\n",
       "      <td>8912.65</td>\n",
       "      <td>45718796276</td>\n",
       "      <td>163654493632</td>\n",
       "    </tr>\n",
       "    <tr>\n",
       "      <th>1</th>\n",
       "      <td>2020-05-05</td>\n",
       "      <td>8912.83</td>\n",
       "      <td>9062.41</td>\n",
       "      <td>8856.83</td>\n",
       "      <td>9003.07</td>\n",
       "      <td>43148462663</td>\n",
       "      <td>165332488792</td>\n",
       "    </tr>\n",
       "    <tr>\n",
       "      <th>0</th>\n",
       "      <td>2020-05-06</td>\n",
       "      <td>9007.44</td>\n",
       "      <td>9411.47</td>\n",
       "      <td>8966.71</td>\n",
       "      <td>9268.76</td>\n",
       "      <td>49371886931</td>\n",
       "      <td>170229620935</td>\n",
       "    </tr>\n",
       "  </tbody>\n",
       "</table>\n",
       "<p>2566 rows × 7 columns</p>\n",
       "</div>"
      ],
      "text/plain": [
       "           Date     Open     High      Low    Close       Volume    Market Cap\n",
       "2565 2013-04-28   135.30   135.98   132.10   134.21            0    1488566728\n",
       "2564 2013-04-29   134.44   147.49   134.00   144.54            0    1603768865\n",
       "2563 2013-04-30   144.00   146.93   134.05   139.00            0    1542813125\n",
       "2562 2013-05-01   139.00   139.89   107.72   116.99            0    1298954594\n",
       "2561 2013-05-02   116.38   125.60    92.28   105.21            0    1168517495\n",
       "...         ...      ...      ...      ...      ...          ...           ...\n",
       "4    2020-05-02  8869.06  9007.19  8811.37  8988.60  40134388683  165012307600\n",
       "3    2020-05-03  8983.61  9167.78  8830.97  8897.47  47101785174  163358189151\n",
       "2    2020-05-04  8895.74  8956.91  8645.02  8912.65  45718796276  163654493632\n",
       "1    2020-05-05  8912.83  9062.41  8856.83  9003.07  43148462663  165332488792\n",
       "0    2020-05-06  9007.44  9411.47  8966.71  9268.76  49371886931  170229620935\n",
       "\n",
       "[2566 rows x 7 columns]"
      ]
     },
     "execution_count": 4,
     "metadata": {},
     "output_type": "execute_result"
    }
   ],
   "source": [
    "bitcoin_market_info=bitcoin_market_info.sort_values(by=['Date'])\n",
    "bitcoin_market_info"
   ]
  },
  {
   "cell_type": "code",
   "execution_count": 5,
   "metadata": {},
   "outputs": [
    {
     "data": {
      "text/plain": [
       "(2566, 7)"
      ]
     },
     "execution_count": 5,
     "metadata": {},
     "output_type": "execute_result"
    }
   ],
   "source": [
    "bitcoin_market_info.shape"
   ]
  },
  {
   "cell_type": "code",
   "execution_count": 6,
   "metadata": {},
   "outputs": [
    {
     "data": {
      "text/plain": [
       "False"
      ]
     },
     "execution_count": 6,
     "metadata": {},
     "output_type": "execute_result"
    }
   ],
   "source": [
    "# check null values\n",
    "bitcoin_market_info.isnull().values.any()"
   ]
  },
  {
   "cell_type": "code",
   "execution_count": 7,
   "metadata": {},
   "outputs": [
    {
     "data": {
      "text/html": [
       "<div>\n",
       "<style scoped>\n",
       "    .dataframe tbody tr th:only-of-type {\n",
       "        vertical-align: middle;\n",
       "    }\n",
       "\n",
       "    .dataframe tbody tr th {\n",
       "        vertical-align: top;\n",
       "    }\n",
       "\n",
       "    .dataframe thead th {\n",
       "        text-align: right;\n",
       "    }\n",
       "</style>\n",
       "<table border=\"1\" class=\"dataframe\">\n",
       "  <thead>\n",
       "    <tr style=\"text-align: right;\">\n",
       "      <th></th>\n",
       "      <th>Open</th>\n",
       "      <th>High</th>\n",
       "      <th>Low</th>\n",
       "      <th>Close</th>\n",
       "      <th>Volume</th>\n",
       "      <th>Market Cap</th>\n",
       "    </tr>\n",
       "    <tr>\n",
       "      <th>Date</th>\n",
       "      <th></th>\n",
       "      <th></th>\n",
       "      <th></th>\n",
       "      <th></th>\n",
       "      <th></th>\n",
       "      <th></th>\n",
       "    </tr>\n",
       "  </thead>\n",
       "  <tbody>\n",
       "    <tr>\n",
       "      <th>2013-04-28</th>\n",
       "      <td>135.30</td>\n",
       "      <td>135.98</td>\n",
       "      <td>132.10</td>\n",
       "      <td>134.21</td>\n",
       "      <td>0</td>\n",
       "      <td>1488566728</td>\n",
       "    </tr>\n",
       "    <tr>\n",
       "      <th>2013-04-29</th>\n",
       "      <td>134.44</td>\n",
       "      <td>147.49</td>\n",
       "      <td>134.00</td>\n",
       "      <td>144.54</td>\n",
       "      <td>0</td>\n",
       "      <td>1603768865</td>\n",
       "    </tr>\n",
       "    <tr>\n",
       "      <th>2013-04-30</th>\n",
       "      <td>144.00</td>\n",
       "      <td>146.93</td>\n",
       "      <td>134.05</td>\n",
       "      <td>139.00</td>\n",
       "      <td>0</td>\n",
       "      <td>1542813125</td>\n",
       "    </tr>\n",
       "    <tr>\n",
       "      <th>2013-05-01</th>\n",
       "      <td>139.00</td>\n",
       "      <td>139.89</td>\n",
       "      <td>107.72</td>\n",
       "      <td>116.99</td>\n",
       "      <td>0</td>\n",
       "      <td>1298954594</td>\n",
       "    </tr>\n",
       "    <tr>\n",
       "      <th>2013-05-02</th>\n",
       "      <td>116.38</td>\n",
       "      <td>125.60</td>\n",
       "      <td>92.28</td>\n",
       "      <td>105.21</td>\n",
       "      <td>0</td>\n",
       "      <td>1168517495</td>\n",
       "    </tr>\n",
       "    <tr>\n",
       "      <th>...</th>\n",
       "      <td>...</td>\n",
       "      <td>...</td>\n",
       "      <td>...</td>\n",
       "      <td>...</td>\n",
       "      <td>...</td>\n",
       "      <td>...</td>\n",
       "    </tr>\n",
       "    <tr>\n",
       "      <th>2020-05-02</th>\n",
       "      <td>8869.06</td>\n",
       "      <td>9007.19</td>\n",
       "      <td>8811.37</td>\n",
       "      <td>8988.60</td>\n",
       "      <td>40134388683</td>\n",
       "      <td>165012307600</td>\n",
       "    </tr>\n",
       "    <tr>\n",
       "      <th>2020-05-03</th>\n",
       "      <td>8983.61</td>\n",
       "      <td>9167.78</td>\n",
       "      <td>8830.97</td>\n",
       "      <td>8897.47</td>\n",
       "      <td>47101785174</td>\n",
       "      <td>163358189151</td>\n",
       "    </tr>\n",
       "    <tr>\n",
       "      <th>2020-05-04</th>\n",
       "      <td>8895.74</td>\n",
       "      <td>8956.91</td>\n",
       "      <td>8645.02</td>\n",
       "      <td>8912.65</td>\n",
       "      <td>45718796276</td>\n",
       "      <td>163654493632</td>\n",
       "    </tr>\n",
       "    <tr>\n",
       "      <th>2020-05-05</th>\n",
       "      <td>8912.83</td>\n",
       "      <td>9062.41</td>\n",
       "      <td>8856.83</td>\n",
       "      <td>9003.07</td>\n",
       "      <td>43148462663</td>\n",
       "      <td>165332488792</td>\n",
       "    </tr>\n",
       "    <tr>\n",
       "      <th>2020-05-06</th>\n",
       "      <td>9007.44</td>\n",
       "      <td>9411.47</td>\n",
       "      <td>8966.71</td>\n",
       "      <td>9268.76</td>\n",
       "      <td>49371886931</td>\n",
       "      <td>170229620935</td>\n",
       "    </tr>\n",
       "  </tbody>\n",
       "</table>\n",
       "<p>2566 rows × 6 columns</p>\n",
       "</div>"
      ],
      "text/plain": [
       "               Open     High      Low    Close       Volume    Market Cap\n",
       "Date                                                                     \n",
       "2013-04-28   135.30   135.98   132.10   134.21            0    1488566728\n",
       "2013-04-29   134.44   147.49   134.00   144.54            0    1603768865\n",
       "2013-04-30   144.00   146.93   134.05   139.00            0    1542813125\n",
       "2013-05-01   139.00   139.89   107.72   116.99            0    1298954594\n",
       "2013-05-02   116.38   125.60    92.28   105.21            0    1168517495\n",
       "...             ...      ...      ...      ...          ...           ...\n",
       "2020-05-02  8869.06  9007.19  8811.37  8988.60  40134388683  165012307600\n",
       "2020-05-03  8983.61  9167.78  8830.97  8897.47  47101785174  163358189151\n",
       "2020-05-04  8895.74  8956.91  8645.02  8912.65  45718796276  163654493632\n",
       "2020-05-05  8912.83  9062.41  8856.83  9003.07  43148462663  165332488792\n",
       "2020-05-06  9007.44  9411.47  8966.71  9268.76  49371886931  170229620935\n",
       "\n",
       "[2566 rows x 6 columns]"
      ]
     },
     "execution_count": 7,
     "metadata": {},
     "output_type": "execute_result"
    }
   ],
   "source": [
    "bitcoin_market_info.index=bitcoin_market_info['Date']\n",
    "bitcoin_market_info=bitcoin_market_info.drop('Date',axis=1)\n",
    "bitcoin_market_info"
   ]
  },
  {
   "cell_type": "code",
   "execution_count": 8,
   "metadata": {},
   "outputs": [
    {
     "data": {
      "text/plain": [
       "Date\n",
       "2013-04-28     134.21\n",
       "2013-04-29     144.54\n",
       "2013-04-30     139.00\n",
       "2013-05-01     116.99\n",
       "2013-05-02     105.21\n",
       "               ...   \n",
       "2020-05-02    8988.60\n",
       "2020-05-03    8897.47\n",
       "2020-05-04    8912.65\n",
       "2020-05-05    9003.07\n",
       "2020-05-06    9268.76\n",
       "Name: Close, Length: 2566, dtype: float64"
      ]
     },
     "execution_count": 8,
     "metadata": {},
     "output_type": "execute_result"
    }
   ],
   "source": [
    "s = pd.Series(bitcoin_market_info[\"Close\"])\n",
    "s"
   ]
  },
  {
   "cell_type": "code",
   "execution_count": 9,
   "metadata": {},
   "outputs": [
    {
     "data": {
      "image/png": "[encoded data removed]",
      "text/plain": [
       "<Figure size 1296x432 with 1 Axes>"
      ]
     },
     "metadata": {},
     "output_type": "display_data"
    }
   ],
   "source": [
    "plt.figure(figsize=(18, 6))  # 创建一个新的 figure\n",
    "s_ax = s.plot()\n",
    "s_ax.set_xlabel(\"time\")\n",
    "s_ax.set_ylabel(\"num\")\n",
    "s_ax.legend(loc='upper right')\n",
    "plt.show()\n"
   ]
  },
  {
   "cell_type": "code",
   "execution_count": 10,
   "metadata": {},
   "outputs": [
    {
     "data": {
      "text/html": [
       "<div>\n",
       "<style scoped>\n",
       "    .dataframe tbody tr th:only-of-type {\n",
       "        vertical-align: middle;\n",
       "    }\n",
       "\n",
       "    .dataframe tbody tr th {\n",
       "        vertical-align: top;\n",
       "    }\n",
       "\n",
       "    .dataframe thead th {\n",
       "        text-align: right;\n",
       "    }\n",
       "</style>\n",
       "<table border=\"1\" class=\"dataframe\">\n",
       "  <thead>\n",
       "    <tr style=\"text-align: right;\">\n",
       "      <th></th>\n",
       "      <th>Close</th>\n",
       "    </tr>\n",
       "    <tr>\n",
       "      <th>Date</th>\n",
       "      <th></th>\n",
       "    </tr>\n",
       "  </thead>\n",
       "  <tbody>\n",
       "    <tr>\n",
       "      <th>2013-04-28</th>\n",
       "      <td>134.21</td>\n",
       "    </tr>\n",
       "    <tr>\n",
       "      <th>2013-04-29</th>\n",
       "      <td>144.54</td>\n",
       "    </tr>\n",
       "    <tr>\n",
       "      <th>2013-04-30</th>\n",
       "      <td>139.00</td>\n",
       "    </tr>\n",
       "    <tr>\n",
       "      <th>2013-05-01</th>\n",
       "      <td>116.99</td>\n",
       "    </tr>\n",
       "    <tr>\n",
       "      <th>2013-05-02</th>\n",
       "      <td>105.21</td>\n",
       "    </tr>\n",
       "    <tr>\n",
       "      <th>...</th>\n",
       "      <td>...</td>\n",
       "    </tr>\n",
       "    <tr>\n",
       "      <th>2020-05-02</th>\n",
       "      <td>8988.60</td>\n",
       "    </tr>\n",
       "    <tr>\n",
       "      <th>2020-05-03</th>\n",
       "      <td>8897.47</td>\n",
       "    </tr>\n",
       "    <tr>\n",
       "      <th>2020-05-04</th>\n",
       "      <td>8912.65</td>\n",
       "    </tr>\n",
       "    <tr>\n",
       "      <th>2020-05-05</th>\n",
       "      <td>9003.07</td>\n",
       "    </tr>\n",
       "    <tr>\n",
       "      <th>2020-05-06</th>\n",
       "      <td>9268.76</td>\n",
       "    </tr>\n",
       "  </tbody>\n",
       "</table>\n",
       "<p>2566 rows × 1 columns</p>\n",
       "</div>"
      ],
      "text/plain": [
       "              Close\n",
       "Date               \n",
       "2013-04-28   134.21\n",
       "2013-04-29   144.54\n",
       "2013-04-30   139.00\n",
       "2013-05-01   116.99\n",
       "2013-05-02   105.21\n",
       "...             ...\n",
       "2020-05-02  8988.60\n",
       "2020-05-03  8897.47\n",
       "2020-05-04  8912.65\n",
       "2020-05-05  9003.07\n",
       "2020-05-06  9268.76\n",
       "\n",
       "[2566 rows x 1 columns]"
      ]
     },
     "execution_count": 10,
     "metadata": {},
     "output_type": "execute_result"
    }
   ],
   "source": [
    "bitcoin_market_info_Close=bitcoin_market_info[['Close']]\n",
    "bitcoin_market_info_Close"
   ]
  },
  {
   "cell_type": "code",
   "execution_count": 11,
   "metadata": {},
   "outputs": [
    {
     "name": "stderr",
     "output_type": "stream",
     "text": [
      "C:\\Users\\lucas\\miniconda3\\envs\\mlearning\\lib\\site-packages\\pandas\\core\\indexing.py:671: SettingWithCopyWarning: \n",
      "A value is trying to be set on a copy of a slice from a DataFrame\n",
      "\n",
      "See the caveats in the documentation: https://pandas.pydata.org/pandas-docs/stable/user_guide/indexing.html#returning-a-view-versus-a-copy\n",
      "  self._setitem_with_indexer(indexer, value)\n",
      "C:\\Users\\lucas\\miniconda3\\envs\\mlearning\\lib\\site-packages\\ipykernel_launcher.py:6: SettingWithCopyWarning: \n",
      "A value is trying to be set on a copy of a slice from a DataFrame\n",
      "\n",
      "See the caveats in the documentation: https://pandas.pydata.org/pandas-docs/stable/user_guide/indexing.html#returning-a-view-versus-a-copy\n",
      "  \n"
     ]
    },
    {
     "data": {
      "text/html": [
       "<div>\n",
       "<style scoped>\n",
       "    .dataframe tbody tr th:only-of-type {\n",
       "        vertical-align: middle;\n",
       "    }\n",
       "\n",
       "    .dataframe tbody tr th {\n",
       "        vertical-align: top;\n",
       "    }\n",
       "\n",
       "    .dataframe thead th {\n",
       "        text-align: right;\n",
       "    }\n",
       "</style>\n",
       "<table border=\"1\" class=\"dataframe\">\n",
       "  <thead>\n",
       "    <tr style=\"text-align: right;\">\n",
       "      <th></th>\n",
       "      <th>Close</th>\n",
       "    </tr>\n",
       "    <tr>\n",
       "      <th>Date</th>\n",
       "      <th></th>\n",
       "    </tr>\n",
       "  </thead>\n",
       "  <tbody>\n",
       "    <tr>\n",
       "      <th>2013-04-28</th>\n",
       "      <td>0.003386</td>\n",
       "    </tr>\n",
       "    <tr>\n",
       "      <th>2013-04-29</th>\n",
       "      <td>0.003917</td>\n",
       "    </tr>\n",
       "    <tr>\n",
       "      <th>2013-04-30</th>\n",
       "      <td>0.003632</td>\n",
       "    </tr>\n",
       "    <tr>\n",
       "      <th>2013-05-01</th>\n",
       "      <td>0.002499</td>\n",
       "    </tr>\n",
       "    <tr>\n",
       "      <th>2013-05-02</th>\n",
       "      <td>0.001893</td>\n",
       "    </tr>\n",
       "    <tr>\n",
       "      <th>...</th>\n",
       "      <td>...</td>\n",
       "    </tr>\n",
       "    <tr>\n",
       "      <th>2020-05-02</th>\n",
       "      <td>0.459117</td>\n",
       "    </tr>\n",
       "    <tr>\n",
       "      <th>2020-05-03</th>\n",
       "      <td>0.454427</td>\n",
       "    </tr>\n",
       "    <tr>\n",
       "      <th>2020-05-04</th>\n",
       "      <td>0.455208</td>\n",
       "    </tr>\n",
       "    <tr>\n",
       "      <th>2020-05-05</th>\n",
       "      <td>0.459862</td>\n",
       "    </tr>\n",
       "    <tr>\n",
       "      <th>2020-05-06</th>\n",
       "      <td>0.473537</td>\n",
       "    </tr>\n",
       "  </tbody>\n",
       "</table>\n",
       "<p>2566 rows × 1 columns</p>\n",
       "</div>"
      ],
      "text/plain": [
       "               Close\n",
       "Date                \n",
       "2013-04-28  0.003386\n",
       "2013-04-29  0.003917\n",
       "2013-04-30  0.003632\n",
       "2013-05-01  0.002499\n",
       "2013-05-02  0.001893\n",
       "...              ...\n",
       "2020-05-02  0.459117\n",
       "2020-05-03  0.454427\n",
       "2020-05-04  0.455208\n",
       "2020-05-05  0.459862\n",
       "2020-05-06  0.473537\n",
       "\n",
       "[2566 rows x 1 columns]"
      ]
     },
     "execution_count": 11,
     "metadata": {},
     "output_type": "execute_result"
    }
   ],
   "source": [
    "from sklearn.preprocessing import MinMaxScaler\n",
    "\n",
    "scaler = MinMaxScaler(feature_range=(0, 1))\n",
    "scaled_data = scaler.fit_transform(bitcoin_market_info_Close.values)\n",
    "#print(bitcoin_market_info.values)\n",
    "bitcoin_market_info_Close.loc[:,:] = scaled_data\n",
    "bitcoin_market_info_Close"
   ]
  },
  {
   "cell_type": "code",
   "execution_count": 12,
   "metadata": {},
   "outputs": [
    {
     "name": "stdout",
     "output_type": "stream",
     "text": [
      "               Close\n",
      "Date                \n",
      "2013-04-28  0.003386\n",
      "2013-04-29  0.003917\n",
      "2013-04-30  0.003632\n",
      "2013-05-01  0.002499\n",
      "2013-05-02  0.001893\n",
      "...              ...\n",
      "2018-12-27  0.184590\n",
      "2018-12-28  0.198440\n",
      "2018-12-29  0.193113\n",
      "2018-12-30  0.195457\n",
      "2018-12-31  0.189113\n",
      "\n",
      "[2074 rows x 1 columns]\n",
      "---------------\n",
      "               Close\n",
      "Date                \n",
      "2019-01-01  0.194302\n",
      "2019-01-02  0.199443\n",
      "2019-01-03  0.193953\n",
      "2019-01-04  0.195033\n",
      "2019-01-05  0.194388\n",
      "...              ...\n",
      "2020-05-02  0.459117\n",
      "2020-05-03  0.454427\n",
      "2020-05-04  0.455208\n",
      "2020-05-05  0.459862\n",
      "2020-05-06  0.473537\n",
      "\n",
      "[492 rows x 1 columns]\n"
     ]
    }
   ],
   "source": [
    "split_date = '2019-01-01'\n",
    "training_set, test_set = bitcoin_market_info_Close[bitcoin_market_info_Close.index<split_date], bitcoin_market_info_Close[bitcoin_market_info_Close.index>=split_date]\n",
    "# training_set = training_set.drop('Date', axis=1)\n",
    "# test_set = test_set.drop('Date', axis=1)\n",
    "print(training_set, test_set,sep=\"\\n---------------\\n\")"
   ]
  },
  {
   "cell_type": "code",
   "execution_count": 13,
   "metadata": {},
   "outputs": [],
   "source": [
    "window_len = 7\n",
    "LSTM_training_inputs = []\n",
    "for i in range(len(training_set)-window_len):\n",
    "    temp_set = training_set[i:(i+window_len)].copy()\n",
    "    LSTM_training_inputs.append(temp_set)\n",
    "LSTM_training_inputs = [np.array(LSTM_training_input) for LSTM_training_input in LSTM_training_inputs]\n",
    "LSTM_training_inputs = np.array(LSTM_training_inputs)\n",
    "\n",
    "\n",
    "LSTM_test_inputs = []\n",
    "for i in range(len(test_set)-window_len):\n",
    "    temp_set = test_set[i:(i+window_len)].copy()\n",
    "    LSTM_test_inputs.append(temp_set)\n",
    "LSTM_test_inputs = [np.array(LSTM_test_inputs) for LSTM_test_inputs in LSTM_test_inputs]\n",
    "LSTM_test_inputs = np.array(LSTM_test_inputs)"
   ]
  },
  {
   "cell_type": "code",
   "execution_count": 14,
   "metadata": {},
   "outputs": [],
   "source": [
    "LSTM_training_outputs = training_set['Close'][window_len:].values\n",
    "LSTM_test_outputs = test_set['Close'][window_len:].values"
   ]
  },
  {
   "cell_type": "code",
   "execution_count": 15,
   "metadata": {},
   "outputs": [
    {
     "data": {
      "text/plain": [
       "2067"
      ]
     },
     "execution_count": 15,
     "metadata": {},
     "output_type": "execute_result"
    }
   ],
   "source": [
    "LSTM_training_outputs.size"
   ]
  },
  {
   "cell_type": "code",
   "execution_count": 16,
   "metadata": {},
   "outputs": [
    {
     "data": {
      "text/plain": [
       "485"
      ]
     },
     "execution_count": 16,
     "metadata": {},
     "output_type": "execute_result"
    }
   ],
   "source": [
    "LSTM_test_outputs.size"
   ]
  },
  {
   "cell_type": "code",
   "execution_count": 17,
   "metadata": {},
   "outputs": [
    {
     "name": "stderr",
     "output_type": "stream",
     "text": [
      "Using TensorFlow backend.\n"
     ]
    }
   ],
   "source": [
    "from keras.models import Sequential\n",
    "from keras.layers import Activation, Dense\n",
    "from keras.layers import LSTM\n",
    "from keras.layers import Dropout"
   ]
  },
  {
   "cell_type": "code",
   "execution_count": 18,
   "metadata": {},
   "outputs": [
    {
     "name": "stdout",
     "output_type": "stream",
     "text": [
      "Epoch 1/5\n",
      " - 12s - loss: 0.0213\n",
      "Epoch 2/5\n",
      " - 10s - loss: 0.0168\n",
      "Epoch 3/5\n",
      " - 10s - loss: 0.0161\n",
      "Epoch 4/5\n",
      " - 9s - loss: 0.0156\n",
      "Epoch 5/5\n",
      " - 11s - loss: 0.0155\n"
     ]
    }
   ],
   "source": [
    "def build_LSTM_model(inputs, output_size, neurons, activ_func=\"linear\",\n",
    "                dropout=0.25, loss=\"mae\", optimizer=\"adam\"):\n",
    "    model = Sequential()\n",
    "\n",
    "    model.add(LSTM(neurons, input_shape=(inputs.shape[1], inputs.shape[2])))\n",
    "    model.add(Dropout(dropout))\n",
    "    model.add(Dense(units=output_size))\n",
    "    model.add(Activation(activ_func))\n",
    "\n",
    "    model.compile(loss=loss, optimizer=optimizer)\n",
    "    return model\n",
    "# random seed for reproducibility\n",
    "np.random.seed(202)\n",
    "# initialise model architecture\n",
    "LSTM_model = build_LSTM_model(LSTM_training_inputs, output_size=1, neurons = 20)\n",
    "# model output is next price normalised to 10th previous closing price\n",
    "\n",
    "# train model on data\n",
    "# note: eth_history contains information on the training error per epoch\n",
    "bitcoin_history = LSTM_model.fit(LSTM_training_inputs, LSTM_training_outputs, \n",
    "                            epochs=5, batch_size=1, verbose=2, shuffle=True)"
   ]
  },
  {
   "cell_type": "code",
   "execution_count": 19,
   "metadata": {},
   "outputs": [
    {
     "data": {
      "image/png": "[encoded data removed]",
      "text/plain": [
       "<Figure size 432x288 with 1 Axes>"
      ]
     },
     "metadata": {},
     "output_type": "display_data"
    }
   ],
   "source": [
    "fig, ax1 = plt.subplots(1,1)\n",
    "\n",
    "ax1.plot(bitcoin_history.epoch, bitcoin_history.history['loss'])\n",
    "ax1.set_title('Training Error')\n",
    "ax1.set_xlabel(\"# Epochs\")\n",
    "ax1.set_ylabel(\"Mean Absolute Error (MAE)\")\n",
    "plt.show()"
   ]
  },
  {
   "cell_type": "code",
   "execution_count": 20,
   "metadata": {},
   "outputs": [
    {
     "data": {
      "text/plain": [
       "485"
      ]
     },
     "execution_count": 20,
     "metadata": {},
     "output_type": "execute_result"
    }
   ],
   "source": [
    "closing_price = LSTM_model.predict(LSTM_test_inputs)\n",
    "closing_price = scaler.inverse_transform(closing_price)\n",
    "closing_price.size"
   ]
  },
  {
   "cell_type": "code",
   "execution_count": 21,
   "metadata": {},
   "outputs": [
    {
     "data": {
      "text/html": [
       "<div>\n",
       "<style scoped>\n",
       "    .dataframe tbody tr th:only-of-type {\n",
       "        vertical-align: middle;\n",
       "    }\n",
       "\n",
       "    .dataframe tbody tr th {\n",
       "        vertical-align: top;\n",
       "    }\n",
       "\n",
       "    .dataframe thead th {\n",
       "        text-align: right;\n",
       "    }\n",
       "</style>\n",
       "<table border=\"1\" class=\"dataframe\">\n",
       "  <thead>\n",
       "    <tr style=\"text-align: right;\">\n",
       "      <th></th>\n",
       "      <th>Close</th>\n",
       "    </tr>\n",
       "    <tr>\n",
       "      <th>Date</th>\n",
       "      <th></th>\n",
       "    </tr>\n",
       "  </thead>\n",
       "  <tbody>\n",
       "    <tr>\n",
       "      <th>2019-01-01</th>\n",
       "      <td>0.194302</td>\n",
       "    </tr>\n",
       "    <tr>\n",
       "      <th>2019-01-02</th>\n",
       "      <td>0.199443</td>\n",
       "    </tr>\n",
       "    <tr>\n",
       "      <th>2019-01-03</th>\n",
       "      <td>0.193953</td>\n",
       "    </tr>\n",
       "    <tr>\n",
       "      <th>2019-01-04</th>\n",
       "      <td>0.195033</td>\n",
       "    </tr>\n",
       "    <tr>\n",
       "      <th>2019-01-05</th>\n",
       "      <td>0.194388</td>\n",
       "    </tr>\n",
       "    <tr>\n",
       "      <th>...</th>\n",
       "      <td>...</td>\n",
       "    </tr>\n",
       "    <tr>\n",
       "      <th>2020-05-02</th>\n",
       "      <td>0.459117</td>\n",
       "    </tr>\n",
       "    <tr>\n",
       "      <th>2020-05-03</th>\n",
       "      <td>0.454427</td>\n",
       "    </tr>\n",
       "    <tr>\n",
       "      <th>2020-05-04</th>\n",
       "      <td>0.455208</td>\n",
       "    </tr>\n",
       "    <tr>\n",
       "      <th>2020-05-05</th>\n",
       "      <td>0.459862</td>\n",
       "    </tr>\n",
       "    <tr>\n",
       "      <th>2020-05-06</th>\n",
       "      <td>0.473537</td>\n",
       "    </tr>\n",
       "  </tbody>\n",
       "</table>\n",
       "<p>492 rows × 1 columns</p>\n",
       "</div>"
      ],
      "text/plain": [
       "               Close\n",
       "Date                \n",
       "2019-01-01  0.194302\n",
       "2019-01-02  0.199443\n",
       "2019-01-03  0.193953\n",
       "2019-01-04  0.195033\n",
       "2019-01-05  0.194388\n",
       "...              ...\n",
       "2020-05-02  0.459117\n",
       "2020-05-03  0.454427\n",
       "2020-05-04  0.455208\n",
       "2020-05-05  0.459862\n",
       "2020-05-06  0.473537\n",
       "\n",
       "[492 rows x 1 columns]"
      ]
     },
     "execution_count": 21,
     "metadata": {},
     "output_type": "execute_result"
    }
   ],
   "source": [
    "test_set"
   ]
  },
  {
   "cell_type": "code",
   "execution_count": 32,
   "metadata": {
    "scrolled": true
   },
   "outputs": [
    {
     "data": {
      "image/png": "[encoded data removed]",
      "text/plain": [
       "<Figure size 1296x432 with 1 Axes>"
      ]
     },
     "metadata": {},
     "output_type": "display_data"
    }
   ],
   "source": [
    "plt.figure(figsize=(18, 6))  # 创建一个新的 figure\n",
    "#test_set['Predictions'] = closing_price\n",
    "s=plt.plot(bitcoin_market_info[\"Close\"].values)\n",
    "\n",
    "plt.plot(closing_price)\n",
    "plt.show()"
   ]
  },
  {
   "cell_type": "code",
   "execution_count": null,
   "metadata": {},
   "outputs": [],
   "source": []
  }
 ],
 "metadata": {
  "kernelspec": {
   "display_name": "Python 3",
   "language": "python",
   "name": "python3"
  },
  "language_info": {
   "codemirror_mode": {
    "name": "ipython",
    "version": 3
   },
   "file_extension": ".py",
   "mimetype": "text/x-python",
   "name": "python",
   "nbconvert_exporter": "python",
   "pygments_lexer": "ipython3",
   "version": "3.7.7"
  }
 },
 "nbformat": 4,
 "nbformat_minor": 4
}
